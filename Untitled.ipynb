{
 "cells": [
  {
   "cell_type": "code",
   "execution_count": 3,
   "id": "22479e4b",
   "metadata": {},
   "outputs": [],
   "source": [
    "import numpy as np\n",
    "import pandas as pd"
   ]
  },
  {
   "cell_type": "code",
   "execution_count": 4,
   "id": "a6b05868",
   "metadata": {},
   "outputs": [],
   "source": [
    "mult_ind = pd.MultiIndex(levels=[['A', 'B', 'C'], ['left', 'right']],\n",
    "                     codes=[[0, 0, 1, 1, 2, 2], [0, 1, 0, 1, 0, 1]])\n",
    "df = pd.DataFrame(np.random.randn(6, 3), mult_ind, ['X', 'Y', 'Z'])"
   ]
  },
  {
   "cell_type": "code",
   "execution_count": 9,
   "id": "9fe21e39",
   "metadata": {},
   "outputs": [
    {
     "data": {
      "text/plain": [
       "X    0.218051\n",
       "Y   -0.126890\n",
       "Z   -0.036281\n",
       "Name: left, dtype: float64"
      ]
     },
     "execution_count": 9,
     "metadata": {},
     "output_type": "execute_result"
    }
   ],
   "source": [
    "df.loc['C'].loc['left']"
   ]
  },
  {
   "cell_type": "code",
   "execution_count": 10,
   "id": "2f09e55d",
   "metadata": {},
   "outputs": [
    {
     "data": {
      "text/html": [
       "<div>\n",
       "<style scoped>\n",
       "    .dataframe tbody tr th:only-of-type {\n",
       "        vertical-align: middle;\n",
       "    }\n",
       "\n",
       "    .dataframe tbody tr th {\n",
       "        vertical-align: top;\n",
       "    }\n",
       "\n",
       "    .dataframe thead th {\n",
       "        text-align: right;\n",
       "    }\n",
       "</style>\n",
       "<table border=\"1\" class=\"dataframe\">\n",
       "  <thead>\n",
       "    <tr style=\"text-align: right;\">\n",
       "      <th></th>\n",
       "      <th></th>\n",
       "      <th>X</th>\n",
       "      <th>Y</th>\n",
       "      <th>Z</th>\n",
       "    </tr>\n",
       "  </thead>\n",
       "  <tbody>\n",
       "    <tr>\n",
       "      <th rowspan=\"2\" valign=\"top\">A</th>\n",
       "      <th>left</th>\n",
       "      <td>-0.601151</td>\n",
       "      <td>1.436402</td>\n",
       "      <td>0.403185</td>\n",
       "    </tr>\n",
       "    <tr>\n",
       "      <th>right</th>\n",
       "      <td>0.174696</td>\n",
       "      <td>0.622690</td>\n",
       "      <td>0.620107</td>\n",
       "    </tr>\n",
       "    <tr>\n",
       "      <th rowspan=\"2\" valign=\"top\">B</th>\n",
       "      <th>left</th>\n",
       "      <td>-1.016049</td>\n",
       "      <td>0.047345</td>\n",
       "      <td>-0.027852</td>\n",
       "    </tr>\n",
       "    <tr>\n",
       "      <th>right</th>\n",
       "      <td>0.063746</td>\n",
       "      <td>0.312061</td>\n",
       "      <td>-0.005307</td>\n",
       "    </tr>\n",
       "    <tr>\n",
       "      <th rowspan=\"2\" valign=\"top\">C</th>\n",
       "      <th>left</th>\n",
       "      <td>0.218051</td>\n",
       "      <td>-0.126890</td>\n",
       "      <td>-0.036281</td>\n",
       "    </tr>\n",
       "    <tr>\n",
       "      <th>right</th>\n",
       "      <td>0.617246</td>\n",
       "      <td>0.862029</td>\n",
       "      <td>0.385896</td>\n",
       "    </tr>\n",
       "  </tbody>\n",
       "</table>\n",
       "</div>"
      ],
      "text/plain": [
       "                X         Y         Z\n",
       "A left  -0.601151  1.436402  0.403185\n",
       "  right  0.174696  0.622690  0.620107\n",
       "B left  -1.016049  0.047345 -0.027852\n",
       "  right  0.063746  0.312061 -0.005307\n",
       "C left   0.218051 -0.126890 -0.036281\n",
       "  right  0.617246  0.862029  0.385896"
      ]
     },
     "execution_count": 10,
     "metadata": {},
     "output_type": "execute_result"
    }
   ],
   "source": [
    "df"
   ]
  },
  {
   "cell_type": "code",
   "execution_count": 11,
   "id": "e1643549",
   "metadata": {},
   "outputs": [
    {
     "data": {
      "text/plain": [
       "FrozenList([None, None])"
      ]
     },
     "execution_count": 11,
     "metadata": {},
     "output_type": "execute_result"
    }
   ],
   "source": [
    "df.index.names\n"
   ]
  },
  {
   "cell_type": "code",
   "execution_count": 12,
   "id": "f81a0f89",
   "metadata": {},
   "outputs": [],
   "source": [
    "df.index.names=['Points','Sides']"
   ]
  },
  {
   "cell_type": "code",
   "execution_count": 13,
   "id": "c977b7fb",
   "metadata": {},
   "outputs": [
    {
     "data": {
      "text/html": [
       "<div>\n",
       "<style scoped>\n",
       "    .dataframe tbody tr th:only-of-type {\n",
       "        vertical-align: middle;\n",
       "    }\n",
       "\n",
       "    .dataframe tbody tr th {\n",
       "        vertical-align: top;\n",
       "    }\n",
       "\n",
       "    .dataframe thead th {\n",
       "        text-align: right;\n",
       "    }\n",
       "</style>\n",
       "<table border=\"1\" class=\"dataframe\">\n",
       "  <thead>\n",
       "    <tr style=\"text-align: right;\">\n",
       "      <th></th>\n",
       "      <th></th>\n",
       "      <th>X</th>\n",
       "      <th>Y</th>\n",
       "      <th>Z</th>\n",
       "    </tr>\n",
       "    <tr>\n",
       "      <th>Points</th>\n",
       "      <th>Sides</th>\n",
       "      <th></th>\n",
       "      <th></th>\n",
       "      <th></th>\n",
       "    </tr>\n",
       "  </thead>\n",
       "  <tbody>\n",
       "    <tr>\n",
       "      <th rowspan=\"2\" valign=\"top\">A</th>\n",
       "      <th>left</th>\n",
       "      <td>-0.601151</td>\n",
       "      <td>1.436402</td>\n",
       "      <td>0.403185</td>\n",
       "    </tr>\n",
       "    <tr>\n",
       "      <th>right</th>\n",
       "      <td>0.174696</td>\n",
       "      <td>0.622690</td>\n",
       "      <td>0.620107</td>\n",
       "    </tr>\n",
       "    <tr>\n",
       "      <th rowspan=\"2\" valign=\"top\">B</th>\n",
       "      <th>left</th>\n",
       "      <td>-1.016049</td>\n",
       "      <td>0.047345</td>\n",
       "      <td>-0.027852</td>\n",
       "    </tr>\n",
       "    <tr>\n",
       "      <th>right</th>\n",
       "      <td>0.063746</td>\n",
       "      <td>0.312061</td>\n",
       "      <td>-0.005307</td>\n",
       "    </tr>\n",
       "    <tr>\n",
       "      <th rowspan=\"2\" valign=\"top\">C</th>\n",
       "      <th>left</th>\n",
       "      <td>0.218051</td>\n",
       "      <td>-0.126890</td>\n",
       "      <td>-0.036281</td>\n",
       "    </tr>\n",
       "    <tr>\n",
       "      <th>right</th>\n",
       "      <td>0.617246</td>\n",
       "      <td>0.862029</td>\n",
       "      <td>0.385896</td>\n",
       "    </tr>\n",
       "  </tbody>\n",
       "</table>\n",
       "</div>"
      ],
      "text/plain": [
       "                     X         Y         Z\n",
       "Points Sides                              \n",
       "A      left  -0.601151  1.436402  0.403185\n",
       "       right  0.174696  0.622690  0.620107\n",
       "B      left  -1.016049  0.047345 -0.027852\n",
       "       right  0.063746  0.312061 -0.005307\n",
       "C      left   0.218051 -0.126890 -0.036281\n",
       "       right  0.617246  0.862029  0.385896"
      ]
     },
     "execution_count": 13,
     "metadata": {},
     "output_type": "execute_result"
    }
   ],
   "source": [
    "df"
   ]
  },
  {
   "cell_type": "code",
   "execution_count": 19,
   "id": "15ab8987",
   "metadata": {},
   "outputs": [
    {
     "data": {
      "text/plain": [
       "Points\n",
       "A    0.622690\n",
       "B    0.312061\n",
       "C    0.862029\n",
       "Name: Y, dtype: float64"
      ]
     },
     "execution_count": 19,
     "metadata": {},
     "output_type": "execute_result"
    }
   ],
   "source": [
    "df.xs('right', level='Sides')['Y']"
   ]
  },
  {
   "cell_type": "code",
   "execution_count": null,
   "id": "cfd4c53a",
   "metadata": {},
   "outputs": [],
   "source": []
  }
 ],
 "metadata": {
  "kernelspec": {
   "display_name": "Python 3 (ipykernel)",
   "language": "python",
   "name": "python3"
  },
  "language_info": {
   "codemirror_mode": {
    "name": "ipython",
    "version": 3
   },
   "file_extension": ".py",
   "mimetype": "text/x-python",
   "name": "python",
   "nbconvert_exporter": "python",
   "pygments_lexer": "ipython3",
   "version": "3.9.7"
  }
 },
 "nbformat": 4,
 "nbformat_minor": 5
}
