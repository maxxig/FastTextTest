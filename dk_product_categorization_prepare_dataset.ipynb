{
 "cells": [
  {
   "cell_type": "code",
   "execution_count": 1,
   "id": "59983a6a",
   "metadata": {},
   "outputs": [],
   "source": [
    "import pandas as pd\n",
    "import string"
   ]
  },
  {
   "cell_type": "code",
   "execution_count": 2,
   "id": "2e5536fd",
   "metadata": {},
   "outputs": [],
   "source": [
    "df_products1 = pd.read_csv('d:\\\\DK\\\\Python\\\\FastTextTest\\\\data\\\\part1.csv ', sep = ';')"
   ]
  },
  {
   "cell_type": "code",
   "execution_count": 3,
   "id": "0bce615c",
   "metadata": {},
   "outputs": [],
   "source": [
    "df_products2 = pd.read_csv('d:\\\\DK\\\\Python\\\\FastTextTest\\\\data\\\\part2.csv ', sep = ';')"
   ]
  },
  {
   "cell_type": "code",
   "execution_count": 4,
   "id": "8b1331cc",
   "metadata": {},
   "outputs": [],
   "source": [
    "df_products3 = pd.read_csv('d:\\\\DK\\\\Python\\\\FastTextTest\\\\data\\\\part3.csv ', sep = ';')"
   ]
  },
  {
   "cell_type": "code",
   "execution_count": 5,
   "id": "7c3ecf7d",
   "metadata": {},
   "outputs": [],
   "source": [
    "df_products4 = pd.read_csv('d:\\\\DK\\\\Python\\\\FastTextTest\\\\data\\\\part4.csv ', sep = ';')"
   ]
  },
  {
   "cell_type": "code",
   "execution_count": 6,
   "id": "370903fe",
   "metadata": {},
   "outputs": [],
   "source": [
    "df_products5 = pd.read_csv('d:\\\\DK\\\\Python\\\\FastTextTest\\\\data\\\\part5.csv ', sep = ';')"
   ]
  },
  {
   "cell_type": "code",
   "execution_count": 7,
   "id": "9061dbee",
   "metadata": {},
   "outputs": [
    {
     "name": "stdout",
     "output_type": "stream",
     "text": [
      "<class 'pandas.core.frame.DataFrame'>\n",
      "RangeIndex: 437733 entries, 0 to 437732\n",
      "Data columns (total 4 columns):\n",
      " #   Column               Non-Null Count   Dtype \n",
      "---  ------               --------------   ----- \n",
      " 0   category_id          437733 non-null  int64 \n",
      " 1   product_name         437733 non-null  object\n",
      " 2   product_description  436805 non-null  object\n",
      " 3   product_id           437733 non-null  int64 \n",
      "dtypes: int64(2), object(2)\n",
      "memory usage: 13.4+ MB\n"
     ]
    }
   ],
   "source": [
    "#df_products2.head()\n",
    "df_products2.info()\n"
   ]
  },
  {
   "cell_type": "code",
   "execution_count": 8,
   "id": "8a491d75",
   "metadata": {},
   "outputs": [],
   "source": [
    "df_full = df_products1.append(df_products2, ignore_index=True)"
   ]
  },
  {
   "cell_type": "code",
   "execution_count": 9,
   "id": "d7691f57",
   "metadata": {},
   "outputs": [],
   "source": [
    "df_full = df_full.append(df_products3, ignore_index=True)"
   ]
  },
  {
   "cell_type": "code",
   "execution_count": 10,
   "id": "08a40a46",
   "metadata": {},
   "outputs": [],
   "source": [
    "df_full = df_full.append(df_products4, ignore_index=True)"
   ]
  },
  {
   "cell_type": "code",
   "execution_count": 11,
   "id": "b73c484a",
   "metadata": {},
   "outputs": [],
   "source": [
    "df_full = df_full.append(df_products5, ignore_index=True)"
   ]
  },
  {
   "cell_type": "code",
   "execution_count": 12,
   "id": "00d12914",
   "metadata": {},
   "outputs": [
    {
     "name": "stdout",
     "output_type": "stream",
     "text": [
      "<class 'pandas.core.frame.DataFrame'>\n",
      "RangeIndex: 5873636 entries, 0 to 5873635\n",
      "Data columns (total 4 columns):\n",
      " #   Column               Dtype \n",
      "---  ------               ----- \n",
      " 0   category_id          int64 \n",
      " 1   product_name         object\n",
      " 2   product_description  object\n",
      " 3   product_id           int64 \n",
      "dtypes: int64(2), object(2)\n",
      "memory usage: 179.2+ MB\n"
     ]
    }
   ],
   "source": [
    "df_full.info()"
   ]
  },
  {
   "cell_type": "code",
   "execution_count": 13,
   "id": "feb2d1b0",
   "metadata": {},
   "outputs": [],
   "source": [
    "def set_label (txt):\n",
    "    return '__label__' + str(txt)"
   ]
  },
  {
   "cell_type": "code",
   "execution_count": 14,
   "id": "d668ed5f",
   "metadata": {},
   "outputs": [],
   "source": [
    "df_full = df_full.drop(['product_id'], axis=1)"
   ]
  },
  {
   "cell_type": "code",
   "execution_count": 15,
   "id": "173df9ef",
   "metadata": {},
   "outputs": [
    {
     "data": {
      "text/html": [
       "<div>\n",
       "<style scoped>\n",
       "    .dataframe tbody tr th:only-of-type {\n",
       "        vertical-align: middle;\n",
       "    }\n",
       "\n",
       "    .dataframe tbody tr th {\n",
       "        vertical-align: top;\n",
       "    }\n",
       "\n",
       "    .dataframe thead th {\n",
       "        text-align: right;\n",
       "    }\n",
       "</style>\n",
       "<table border=\"1\" class=\"dataframe\">\n",
       "  <thead>\n",
       "    <tr style=\"text-align: right;\">\n",
       "      <th></th>\n",
       "      <th>category_id</th>\n",
       "      <th>product_name</th>\n",
       "      <th>product_description</th>\n",
       "    </tr>\n",
       "  </thead>\n",
       "  <tbody>\n",
       "    <tr>\n",
       "      <th>0</th>\n",
       "      <td>4991</td>\n",
       "      <td>Satin Brass Right Hand Reverse Rail Mount Reta...</td>\n",
       "      <td>CRL Blumcraft® manufactures a complete line of...</td>\n",
       "    </tr>\n",
       "    <tr>\n",
       "      <th>1</th>\n",
       "      <td>6245</td>\n",
       "      <td>Brushed Nickel Pinnacle Series Wall Mount Shor...</td>\n",
       "      <td>CRL Replacement Back Plates for Pinnacle Serie...</td>\n",
       "    </tr>\n",
       "    <tr>\n",
       "      <th>2</th>\n",
       "      <td>5061</td>\n",
       "      <td>Brite Anodized 16\" End Design Series Partition...</td>\n",
       "      <td>CRL Design Series Partition Posts are very pop...</td>\n",
       "    </tr>\n",
       "    <tr>\n",
       "      <th>3</th>\n",
       "      <td>5048</td>\n",
       "      <td>Satin Chrome Z-Series Large Round Clamp for 1/...</td>\n",
       "      <td>CRL Z-Series Clamps are available in your choi...</td>\n",
       "    </tr>\n",
       "    <tr>\n",
       "      <th>4</th>\n",
       "      <td>5030</td>\n",
       "      <td>Post Mount Swinging Gate with Top and Bottom P...</td>\n",
       "      <td>We have developed a series of Swinging Gates f...</td>\n",
       "    </tr>\n",
       "    <tr>\n",
       "      <th>5</th>\n",
       "      <td>90</td>\n",
       "      <td>Zinc Plated 2-3/4\" 'Nite-Lock' Pin</td>\n",
       "      <td>The CRL Sliding Door 'Nite-Lock' Pin has a pla...</td>\n",
       "    </tr>\n",
       "    <tr>\n",
       "      <th>6</th>\n",
       "      <td>6400</td>\n",
       "      <td>Polished Chrome Look 11/16\" Wide Rounded Metal...</td>\n",
       "      <td>These CRL Chrome Look Metal Mirror Clips are d...</td>\n",
       "    </tr>\n",
       "    <tr>\n",
       "      <th>7</th>\n",
       "      <td>2334</td>\n",
       "      <td>Dark Bronze .157\" Straight Cylinder Ring</td>\n",
       "      <td>CRL Straight Cylinder Rings are used to obtain...</td>\n",
       "    </tr>\n",
       "    <tr>\n",
       "      <th>8</th>\n",
       "      <td>6383</td>\n",
       "      <td>Gold Anodized Fixed Glass Frame 144\" Stock Length</td>\n",
       "      <td>CRL Fixed and Universal Framing may be used in...</td>\n",
       "    </tr>\n",
       "    <tr>\n",
       "      <th>9</th>\n",
       "      <td>92</td>\n",
       "      <td>Plastic Anti-Rattlers - 20 Per Pack</td>\n",
       "      <td>CRL Plastic Anti-Rattlers - 20 Per Pack</td>\n",
       "    </tr>\n",
       "  </tbody>\n",
       "</table>\n",
       "</div>"
      ],
      "text/plain": [
       "   category_id                                       product_name  \\\n",
       "0         4991  Satin Brass Right Hand Reverse Rail Mount Reta...   \n",
       "1         6245  Brushed Nickel Pinnacle Series Wall Mount Shor...   \n",
       "2         5061  Brite Anodized 16\" End Design Series Partition...   \n",
       "3         5048  Satin Chrome Z-Series Large Round Clamp for 1/...   \n",
       "4         5030  Post Mount Swinging Gate with Top and Bottom P...   \n",
       "5           90                 Zinc Plated 2-3/4\" 'Nite-Lock' Pin   \n",
       "6         6400  Polished Chrome Look 11/16\" Wide Rounded Metal...   \n",
       "7         2334           Dark Bronze .157\" Straight Cylinder Ring   \n",
       "8         6383  Gold Anodized Fixed Glass Frame 144\" Stock Length   \n",
       "9           92                Plastic Anti-Rattlers - 20 Per Pack   \n",
       "\n",
       "                                 product_description  \n",
       "0  CRL Blumcraft® manufactures a complete line of...  \n",
       "1  CRL Replacement Back Plates for Pinnacle Serie...  \n",
       "2  CRL Design Series Partition Posts are very pop...  \n",
       "3  CRL Z-Series Clamps are available in your choi...  \n",
       "4  We have developed a series of Swinging Gates f...  \n",
       "5  The CRL Sliding Door 'Nite-Lock' Pin has a pla...  \n",
       "6  These CRL Chrome Look Metal Mirror Clips are d...  \n",
       "7  CRL Straight Cylinder Rings are used to obtain...  \n",
       "8  CRL Fixed and Universal Framing may be used in...  \n",
       "9            CRL Plastic Anti-Rattlers - 20 Per Pack  "
      ]
     },
     "execution_count": 15,
     "metadata": {},
     "output_type": "execute_result"
    }
   ],
   "source": [
    "df_full.head(10)"
   ]
  },
  {
   "cell_type": "code",
   "execution_count": 16,
   "id": "d6d31cd7",
   "metadata": {},
   "outputs": [],
   "source": [
    "df_full['category_id'] = df_full.apply(lambda df_lambda: set_label(df_lambda['category_id']), axis=1)"
   ]
  },
  {
   "cell_type": "code",
   "execution_count": 17,
   "id": "6c6fdd89",
   "metadata": {},
   "outputs": [
    {
     "data": {
      "text/html": [
       "<div>\n",
       "<style scoped>\n",
       "    .dataframe tbody tr th:only-of-type {\n",
       "        vertical-align: middle;\n",
       "    }\n",
       "\n",
       "    .dataframe tbody tr th {\n",
       "        vertical-align: top;\n",
       "    }\n",
       "\n",
       "    .dataframe thead th {\n",
       "        text-align: right;\n",
       "    }\n",
       "</style>\n",
       "<table border=\"1\" class=\"dataframe\">\n",
       "  <thead>\n",
       "    <tr style=\"text-align: right;\">\n",
       "      <th></th>\n",
       "      <th>category_id</th>\n",
       "      <th>product_name</th>\n",
       "      <th>product_description</th>\n",
       "    </tr>\n",
       "  </thead>\n",
       "  <tbody>\n",
       "    <tr>\n",
       "      <th>0</th>\n",
       "      <td>__label__4991</td>\n",
       "      <td>Satin Brass Right Hand Reverse Rail Mount Reta...</td>\n",
       "      <td>CRL Blumcraft® manufactures a complete line of...</td>\n",
       "    </tr>\n",
       "    <tr>\n",
       "      <th>1</th>\n",
       "      <td>__label__6245</td>\n",
       "      <td>Brushed Nickel Pinnacle Series Wall Mount Shor...</td>\n",
       "      <td>CRL Replacement Back Plates for Pinnacle Serie...</td>\n",
       "    </tr>\n",
       "    <tr>\n",
       "      <th>2</th>\n",
       "      <td>__label__5061</td>\n",
       "      <td>Brite Anodized 16\" End Design Series Partition...</td>\n",
       "      <td>CRL Design Series Partition Posts are very pop...</td>\n",
       "    </tr>\n",
       "    <tr>\n",
       "      <th>3</th>\n",
       "      <td>__label__5048</td>\n",
       "      <td>Satin Chrome Z-Series Large Round Clamp for 1/...</td>\n",
       "      <td>CRL Z-Series Clamps are available in your choi...</td>\n",
       "    </tr>\n",
       "    <tr>\n",
       "      <th>4</th>\n",
       "      <td>__label__5030</td>\n",
       "      <td>Post Mount Swinging Gate with Top and Bottom P...</td>\n",
       "      <td>We have developed a series of Swinging Gates f...</td>\n",
       "    </tr>\n",
       "    <tr>\n",
       "      <th>5</th>\n",
       "      <td>__label__90</td>\n",
       "      <td>Zinc Plated 2-3/4\" 'Nite-Lock' Pin</td>\n",
       "      <td>The CRL Sliding Door 'Nite-Lock' Pin has a pla...</td>\n",
       "    </tr>\n",
       "    <tr>\n",
       "      <th>6</th>\n",
       "      <td>__label__6400</td>\n",
       "      <td>Polished Chrome Look 11/16\" Wide Rounded Metal...</td>\n",
       "      <td>These CRL Chrome Look Metal Mirror Clips are d...</td>\n",
       "    </tr>\n",
       "    <tr>\n",
       "      <th>7</th>\n",
       "      <td>__label__2334</td>\n",
       "      <td>Dark Bronze .157\" Straight Cylinder Ring</td>\n",
       "      <td>CRL Straight Cylinder Rings are used to obtain...</td>\n",
       "    </tr>\n",
       "    <tr>\n",
       "      <th>8</th>\n",
       "      <td>__label__6383</td>\n",
       "      <td>Gold Anodized Fixed Glass Frame 144\" Stock Length</td>\n",
       "      <td>CRL Fixed and Universal Framing may be used in...</td>\n",
       "    </tr>\n",
       "    <tr>\n",
       "      <th>9</th>\n",
       "      <td>__label__92</td>\n",
       "      <td>Plastic Anti-Rattlers - 20 Per Pack</td>\n",
       "      <td>CRL Plastic Anti-Rattlers - 20 Per Pack</td>\n",
       "    </tr>\n",
       "  </tbody>\n",
       "</table>\n",
       "</div>"
      ],
      "text/plain": [
       "     category_id                                       product_name  \\\n",
       "0  __label__4991  Satin Brass Right Hand Reverse Rail Mount Reta...   \n",
       "1  __label__6245  Brushed Nickel Pinnacle Series Wall Mount Shor...   \n",
       "2  __label__5061  Brite Anodized 16\" End Design Series Partition...   \n",
       "3  __label__5048  Satin Chrome Z-Series Large Round Clamp for 1/...   \n",
       "4  __label__5030  Post Mount Swinging Gate with Top and Bottom P...   \n",
       "5    __label__90                 Zinc Plated 2-3/4\" 'Nite-Lock' Pin   \n",
       "6  __label__6400  Polished Chrome Look 11/16\" Wide Rounded Metal...   \n",
       "7  __label__2334           Dark Bronze .157\" Straight Cylinder Ring   \n",
       "8  __label__6383  Gold Anodized Fixed Glass Frame 144\" Stock Length   \n",
       "9    __label__92                Plastic Anti-Rattlers - 20 Per Pack   \n",
       "\n",
       "                                 product_description  \n",
       "0  CRL Blumcraft® manufactures a complete line of...  \n",
       "1  CRL Replacement Back Plates for Pinnacle Serie...  \n",
       "2  CRL Design Series Partition Posts are very pop...  \n",
       "3  CRL Z-Series Clamps are available in your choi...  \n",
       "4  We have developed a series of Swinging Gates f...  \n",
       "5  The CRL Sliding Door 'Nite-Lock' Pin has a pla...  \n",
       "6  These CRL Chrome Look Metal Mirror Clips are d...  \n",
       "7  CRL Straight Cylinder Rings are used to obtain...  \n",
       "8  CRL Fixed and Universal Framing may be used in...  \n",
       "9            CRL Plastic Anti-Rattlers - 20 Per Pack  "
      ]
     },
     "execution_count": 17,
     "metadata": {},
     "output_type": "execute_result"
    }
   ],
   "source": [
    "df_full.head(10)"
   ]
  },
  {
   "cell_type": "code",
   "execution_count": 18,
   "id": "6b900952",
   "metadata": {},
   "outputs": [],
   "source": [
    "df_full['category_id'] = df_full['category_id'].astype('string')"
   ]
  },
  {
   "cell_type": "code",
   "execution_count": 19,
   "id": "7c60986e",
   "metadata": {},
   "outputs": [],
   "source": [
    "def normalization_text(txt):\n",
    "    return str(txt).translate(str.maketrans('', '', string.punctuation)).lower()"
   ]
  },
  {
   "cell_type": "code",
   "execution_count": 20,
   "id": "885757ba",
   "metadata": {},
   "outputs": [],
   "source": [
    "df_full['product_name'] = df_full.apply(lambda df_local: normalization_text(df_local['product_name']), axis=1)"
   ]
  },
  {
   "cell_type": "code",
   "execution_count": 21,
   "id": "db83f1ea",
   "metadata": {},
   "outputs": [],
   "source": [
    "df_full['product_description'] = df_full.apply(lambda df_local: normalization_text(df_local['product_description']), axis=1)"
   ]
  },
  {
   "cell_type": "code",
   "execution_count": 22,
   "id": "f09ef071",
   "metadata": {},
   "outputs": [],
   "source": [
    "df_full.to_csv('part_full.csv', sep=';', index=False)"
   ]
  },
  {
   "cell_type": "code",
   "execution_count": null,
   "id": "0cc4caa1",
   "metadata": {},
   "outputs": [],
   "source": [
    "#split to train and valid datasets"
   ]
  },
  {
   "cell_type": "code",
   "execution_count": null,
   "id": "5c09babf",
   "metadata": {},
   "outputs": [],
   "source": []
  }
 ],
 "metadata": {
  "kernelspec": {
   "display_name": "Python 3 (ipykernel)",
   "language": "python",
   "name": "python3"
  },
  "language_info": {
   "codemirror_mode": {
    "name": "ipython",
    "version": 3
   },
   "file_extension": ".py",
   "mimetype": "text/x-python",
   "name": "python",
   "nbconvert_exporter": "python",
   "pygments_lexer": "ipython3",
   "version": "3.9.7"
  }
 },
 "nbformat": 4,
 "nbformat_minor": 5
}
