{
 "cells": [
  {
   "cell_type": "code",
   "execution_count": 1,
   "id": "8406f1a1",
   "metadata": {},
   "outputs": [],
   "source": [
    "import pandas as pd\n",
    "import string"
   ]
  },
  {
   "cell_type": "code",
   "execution_count": 2,
   "id": "f40a7ca9",
   "metadata": {},
   "outputs": [],
   "source": [
    "df_products_attr_1 = pd.read_csv('d:\\\\DK\\\\Python\\\\FastTextTest\\\\data\\\\attr_part_1.csv', sep = ';')"
   ]
  },
  {
   "cell_type": "code",
   "execution_count": 3,
   "id": "520d2f92",
   "metadata": {},
   "outputs": [],
   "source": [
    "df_products_attr_2 = pd.read_csv('d:\\\\DK\\\\Python\\\\FastTextTest\\\\data\\\\attr_part_2.csv', sep = ';')"
   ]
  },
  {
   "cell_type": "code",
   "execution_count": 4,
   "id": "3f648173",
   "metadata": {},
   "outputs": [],
   "source": [
    "df_products_attr_3 = pd.read_csv('d:\\\\DK\\\\Python\\\\FastTextTest\\\\data\\\\attr_part_3.csv', sep = ';')"
   ]
  },
  {
   "cell_type": "code",
   "execution_count": 5,
   "id": "78ed473d",
   "metadata": {},
   "outputs": [],
   "source": [
    "df_products_attr_4 = pd.read_csv('d:\\\\DK\\\\Python\\\\FastTextTest\\\\data\\\\attr_part_4.csv', sep = ';')"
   ]
  },
  {
   "cell_type": "code",
   "execution_count": 6,
   "id": "dcae4feb",
   "metadata": {},
   "outputs": [],
   "source": [
    "df_products_attr_full = df_products_attr_1.append(df_products_attr_2, ignore_index=True)"
   ]
  },
  {
   "cell_type": "code",
   "execution_count": 7,
   "id": "1aba4d2c",
   "metadata": {},
   "outputs": [],
   "source": [
    "df_products_attr_full = df_products_attr_full.append(df_products_attr_3, ignore_index=True)"
   ]
  },
  {
   "cell_type": "code",
   "execution_count": 8,
   "id": "3ac8b79e",
   "metadata": {},
   "outputs": [],
   "source": [
    "df_products_attr_full = df_products_attr_full.append(df_products_attr_4, ignore_index=True)"
   ]
  },
  {
   "cell_type": "code",
   "execution_count": 9,
   "id": "b9695afb",
   "metadata": {},
   "outputs": [
    {
     "name": "stdout",
     "output_type": "stream",
     "text": [
      "<class 'pandas.core.frame.DataFrame'>\n",
      "RangeIndex: 3846976 entries, 0 to 3846975\n",
      "Data columns (total 2 columns):\n",
      " #   Column           Dtype \n",
      "---  ------           ----- \n",
      " 0   product_ID       int64 \n",
      " 1   attributes_text  object\n",
      "dtypes: int64(1), object(1)\n",
      "memory usage: 58.7+ MB\n"
     ]
    }
   ],
   "source": [
    "df_products_attr_full.info()"
   ]
  },
  {
   "cell_type": "code",
   "execution_count": 10,
   "id": "bb3c2c62",
   "metadata": {},
   "outputs": [
    {
     "data": {
      "text/html": [
       "<div>\n",
       "<style scoped>\n",
       "    .dataframe tbody tr th:only-of-type {\n",
       "        vertical-align: middle;\n",
       "    }\n",
       "\n",
       "    .dataframe tbody tr th {\n",
       "        vertical-align: top;\n",
       "    }\n",
       "\n",
       "    .dataframe thead th {\n",
       "        text-align: right;\n",
       "    }\n",
       "</style>\n",
       "<table border=\"1\" class=\"dataframe\">\n",
       "  <thead>\n",
       "    <tr style=\"text-align: right;\">\n",
       "      <th></th>\n",
       "      <th>product_ID</th>\n",
       "      <th>attributes_text</th>\n",
       "    </tr>\n",
       "  </thead>\n",
       "  <tbody>\n",
       "    <tr>\n",
       "      <th>0</th>\n",
       "      <td>1</td>\n",
       "      <td>ANSI/BHMA Standards Web Site buildershardware....</td>\n",
       "    </tr>\n",
       "    <tr>\n",
       "      <th>1</th>\n",
       "      <td>3</td>\n",
       "      <td>Length 16 in (406.4 mm) Type End Post Material...</td>\n",
       "    </tr>\n",
       "    <tr>\n",
       "      <th>2</th>\n",
       "      <td>10</td>\n",
       "      <td>Thickness .063\" (1.60 mm) Second Category CRL ...</td>\n",
       "    </tr>\n",
       "    <tr>\n",
       "      <th>3</th>\n",
       "      <td>12</td>\n",
       "      <td>Ship Via Can Ship UPS Shipping Weight 3 oz (91...</td>\n",
       "    </tr>\n",
       "    <tr>\n",
       "      <th>4</th>\n",
       "      <td>7</td>\n",
       "      <td>Minimum Order 12 Each Ship Via Can Ship UPS Co...</td>\n",
       "    </tr>\n",
       "    <tr>\n",
       "      <th>...</th>\n",
       "      <td>...</td>\n",
       "      <td>...</td>\n",
       "    </tr>\n",
       "    <tr>\n",
       "      <th>95</th>\n",
       "      <td>171</td>\n",
       "      <td>Ship Via Can Ship UPS Width 2\" (51 mm) Finish ...</td>\n",
       "    </tr>\n",
       "    <tr>\n",
       "      <th>96</th>\n",
       "      <td>142</td>\n",
       "      <td>Height 5-1/2 Length 144 Material Aluminum Type...</td>\n",
       "    </tr>\n",
       "    <tr>\n",
       "      <th>97</th>\n",
       "      <td>239</td>\n",
       "      <td>Minimum Order 1 Each Configuration Non-Handed ...</td>\n",
       "    </tr>\n",
       "    <tr>\n",
       "      <th>98</th>\n",
       "      <td>240</td>\n",
       "      <td>Material Stainless Steel (Alloy 316) Glazing T...</td>\n",
       "    </tr>\n",
       "    <tr>\n",
       "      <th>99</th>\n",
       "      <td>219</td>\n",
       "      <td>Finish/Color Clear Color Clear Thickness 1/16 ...</td>\n",
       "    </tr>\n",
       "  </tbody>\n",
       "</table>\n",
       "<p>100 rows × 2 columns</p>\n",
       "</div>"
      ],
      "text/plain": [
       "    product_ID                                    attributes_text\n",
       "0            1  ANSI/BHMA Standards Web Site buildershardware....\n",
       "1            3  Length 16 in (406.4 mm) Type End Post Material...\n",
       "2           10  Thickness .063\" (1.60 mm) Second Category CRL ...\n",
       "3           12  Ship Via Can Ship UPS Shipping Weight 3 oz (91...\n",
       "4            7  Minimum Order 12 Each Ship Via Can Ship UPS Co...\n",
       "..         ...                                                ...\n",
       "95         171  Ship Via Can Ship UPS Width 2\" (51 mm) Finish ...\n",
       "96         142  Height 5-1/2 Length 144 Material Aluminum Type...\n",
       "97         239  Minimum Order 1 Each Configuration Non-Handed ...\n",
       "98         240  Material Stainless Steel (Alloy 316) Glazing T...\n",
       "99         219  Finish/Color Clear Color Clear Thickness 1/16 ...\n",
       "\n",
       "[100 rows x 2 columns]"
      ]
     },
     "execution_count": 10,
     "metadata": {},
     "output_type": "execute_result"
    }
   ],
   "source": [
    "df_products_attr_full.head(100)"
   ]
  },
  {
   "cell_type": "code",
   "execution_count": 11,
   "id": "5b22f65f",
   "metadata": {},
   "outputs": [],
   "source": [
    "df_products_attr_full['attributes_text'] = df_products_attr_full['attributes_text'].astype('string')"
   ]
  },
  {
   "cell_type": "code",
   "execution_count": 12,
   "id": "cc1122a8",
   "metadata": {},
   "outputs": [],
   "source": [
    "def normalization_text(txt):\n",
    "    return txt.translate(str.maketrans('', '', string.punctuation)).lower()"
   ]
  },
  {
   "cell_type": "code",
   "execution_count": 13,
   "id": "e3e29b54",
   "metadata": {},
   "outputs": [],
   "source": [
    "df_products_attr_full['attributes_text'] = df_products_attr_full.apply(lambda df_lambda: normalization_text(df_lambda['attributes_text']), axis=1)"
   ]
  },
  {
   "cell_type": "code",
   "execution_count": 14,
   "id": "807224a8",
   "metadata": {},
   "outputs": [
    {
     "data": {
      "text/html": [
       "<div>\n",
       "<style scoped>\n",
       "    .dataframe tbody tr th:only-of-type {\n",
       "        vertical-align: middle;\n",
       "    }\n",
       "\n",
       "    .dataframe tbody tr th {\n",
       "        vertical-align: top;\n",
       "    }\n",
       "\n",
       "    .dataframe thead th {\n",
       "        text-align: right;\n",
       "    }\n",
       "</style>\n",
       "<table border=\"1\" class=\"dataframe\">\n",
       "  <thead>\n",
       "    <tr style=\"text-align: right;\">\n",
       "      <th></th>\n",
       "      <th>product_ID</th>\n",
       "      <th>attributes_text</th>\n",
       "    </tr>\n",
       "  </thead>\n",
       "  <tbody>\n",
       "    <tr>\n",
       "      <th>0</th>\n",
       "      <td>1</td>\n",
       "      <td>ansibhma standards web site buildershardwareco...</td>\n",
       "    </tr>\n",
       "    <tr>\n",
       "      <th>1</th>\n",
       "      <td>3</td>\n",
       "      <td>length 16 in 4064 mm type end post material al...</td>\n",
       "    </tr>\n",
       "    <tr>\n",
       "      <th>2</th>\n",
       "      <td>10</td>\n",
       "      <td>thickness 063 160 mm second category crl showc...</td>\n",
       "    </tr>\n",
       "    <tr>\n",
       "      <th>3</th>\n",
       "      <td>12</td>\n",
       "      <td>ship via can ship ups shipping weight 3 oz 91g...</td>\n",
       "    </tr>\n",
       "    <tr>\n",
       "      <th>4</th>\n",
       "      <td>7</td>\n",
       "      <td>minimum order 12 each ship via can ship ups co...</td>\n",
       "    </tr>\n",
       "    <tr>\n",
       "      <th>...</th>\n",
       "      <td>...</td>\n",
       "      <td>...</td>\n",
       "    </tr>\n",
       "    <tr>\n",
       "      <th>95</th>\n",
       "      <td>171</td>\n",
       "      <td>ship via can ship ups width 2 51 mm finish pol...</td>\n",
       "    </tr>\n",
       "    <tr>\n",
       "      <th>96</th>\n",
       "      <td>142</td>\n",
       "      <td>height 512 length 144 material aluminum type a...</td>\n",
       "    </tr>\n",
       "    <tr>\n",
       "      <th>97</th>\n",
       "      <td>239</td>\n",
       "      <td>minimum order 1 each configuration nonhanded e...</td>\n",
       "    </tr>\n",
       "    <tr>\n",
       "      <th>98</th>\n",
       "      <td>240</td>\n",
       "      <td>material stainless steel alloy 316 glazing typ...</td>\n",
       "    </tr>\n",
       "    <tr>\n",
       "      <th>99</th>\n",
       "      <td>219</td>\n",
       "      <td>finishcolor clear color clear thickness 116 ca...</td>\n",
       "    </tr>\n",
       "  </tbody>\n",
       "</table>\n",
       "<p>100 rows × 2 columns</p>\n",
       "</div>"
      ],
      "text/plain": [
       "    product_ID                                    attributes_text\n",
       "0            1  ansibhma standards web site buildershardwareco...\n",
       "1            3  length 16 in 4064 mm type end post material al...\n",
       "2           10  thickness 063 160 mm second category crl showc...\n",
       "3           12  ship via can ship ups shipping weight 3 oz 91g...\n",
       "4            7  minimum order 12 each ship via can ship ups co...\n",
       "..         ...                                                ...\n",
       "95         171  ship via can ship ups width 2 51 mm finish pol...\n",
       "96         142  height 512 length 144 material aluminum type a...\n",
       "97         239  minimum order 1 each configuration nonhanded e...\n",
       "98         240  material stainless steel alloy 316 glazing typ...\n",
       "99         219  finishcolor clear color clear thickness 116 ca...\n",
       "\n",
       "[100 rows x 2 columns]"
      ]
     },
     "execution_count": 14,
     "metadata": {},
     "output_type": "execute_result"
    }
   ],
   "source": [
    "df_products_attr_full.head(100)"
   ]
  },
  {
   "cell_type": "code",
   "execution_count": 15,
   "id": "4ccc0a23",
   "metadata": {},
   "outputs": [],
   "source": [
    "df_products_attr_full.to_csv('attr_part_all_norm1.csv', sep=';', index=False)"
   ]
  },
  {
   "cell_type": "code",
   "execution_count": null,
   "id": "34932d77",
   "metadata": {},
   "outputs": [],
   "source": []
  }
 ],
 "metadata": {
  "kernelspec": {
   "display_name": "Python 3 (ipykernel)",
   "language": "python",
   "name": "python3"
  },
  "language_info": {
   "codemirror_mode": {
    "name": "ipython",
    "version": 3
   },
   "file_extension": ".py",
   "mimetype": "text/x-python",
   "name": "python",
   "nbconvert_exporter": "python",
   "pygments_lexer": "ipython3",
   "version": "3.9.7"
  }
 },
 "nbformat": 4,
 "nbformat_minor": 5
}
