{
 "cells": [
  {
   "cell_type": "code",
   "execution_count": 1,
   "id": "928f136a",
   "metadata": {},
   "outputs": [],
   "source": [
    "import pandas as pd"
   ]
  },
  {
   "cell_type": "code",
   "execution_count": 2,
   "id": "d8c99ed9",
   "metadata": {},
   "outputs": [],
   "source": [
    "products_dataset = pd.read_csv('c:\\\\Users\\\\Maks Golovin\\\\jupyter\\\\part_full.csv', sep = ';')"
   ]
  },
  {
   "cell_type": "code",
   "execution_count": 5,
   "id": "835680b3",
   "metadata": {},
   "outputs": [],
   "source": [
    "train = products_dataset.sample(frac = 0.75)\n",
    "valid = products_dataset.drop(train.index)"
   ]
  },
  {
   "cell_type": "code",
   "execution_count": 6,
   "id": "9510dec9",
   "metadata": {},
   "outputs": [],
   "source": [
    "train.to_csv('product_description.train', index=False, header=False)"
   ]
  },
  {
   "cell_type": "code",
   "execution_count": 7,
   "id": "a81d9480",
   "metadata": {},
   "outputs": [],
   "source": [
    "valid.to_csv('product_description.valid', index=False, header=False)"
   ]
  },
  {
   "cell_type": "code",
   "execution_count": 3,
   "id": "c172ba03",
   "metadata": {},
   "outputs": [
    {
     "data": {
      "text/html": [
       "<div>\n",
       "<style scoped>\n",
       "    .dataframe tbody tr th:only-of-type {\n",
       "        vertical-align: middle;\n",
       "    }\n",
       "\n",
       "    .dataframe tbody tr th {\n",
       "        vertical-align: top;\n",
       "    }\n",
       "\n",
       "    .dataframe thead th {\n",
       "        text-align: right;\n",
       "    }\n",
       "</style>\n",
       "<table border=\"1\" class=\"dataframe\">\n",
       "  <thead>\n",
       "    <tr style=\"text-align: right;\">\n",
       "      <th></th>\n",
       "      <th>category_id</th>\n",
       "      <th>product_name</th>\n",
       "      <th>product_description</th>\n",
       "    </tr>\n",
       "  </thead>\n",
       "  <tbody>\n",
       "    <tr>\n",
       "      <th>0</th>\n",
       "      <td>__label__4991</td>\n",
       "      <td>satin brass right hand reverse rail mount reta...</td>\n",
       "      <td>crl blumcraft® manufactures a complete line of...</td>\n",
       "    </tr>\n",
       "    <tr>\n",
       "      <th>1</th>\n",
       "      <td>__label__6245</td>\n",
       "      <td>brushed nickel pinnacle series wall mount shor...</td>\n",
       "      <td>crl replacement back plates for pinnacle serie...</td>\n",
       "    </tr>\n",
       "    <tr>\n",
       "      <th>2</th>\n",
       "      <td>__label__5061</td>\n",
       "      <td>brite anodized 16 end design series partition ...</td>\n",
       "      <td>crl design series partition posts are very pop...</td>\n",
       "    </tr>\n",
       "    <tr>\n",
       "      <th>3</th>\n",
       "      <td>__label__5048</td>\n",
       "      <td>satin chrome zseries large round clamp for 14 ...</td>\n",
       "      <td>crl zseries clamps are available in your choic...</td>\n",
       "    </tr>\n",
       "    <tr>\n",
       "      <th>4</th>\n",
       "      <td>__label__5030</td>\n",
       "      <td>post mount swinging gate with top and bottom p...</td>\n",
       "      <td>we have developed a series of swinging gates f...</td>\n",
       "    </tr>\n",
       "    <tr>\n",
       "      <th>5</th>\n",
       "      <td>__label__90</td>\n",
       "      <td>zinc plated 234 nitelock pin</td>\n",
       "      <td>the crl sliding door nitelock pin has a plated...</td>\n",
       "    </tr>\n",
       "    <tr>\n",
       "      <th>6</th>\n",
       "      <td>__label__6400</td>\n",
       "      <td>polished chrome look 1116 wide rounded metal m...</td>\n",
       "      <td>these crl chrome look metal mirror clips are d...</td>\n",
       "    </tr>\n",
       "    <tr>\n",
       "      <th>7</th>\n",
       "      <td>__label__2334</td>\n",
       "      <td>dark bronze 157 straight cylinder ring</td>\n",
       "      <td>crl straight cylinder rings are used to obtain...</td>\n",
       "    </tr>\n",
       "    <tr>\n",
       "      <th>8</th>\n",
       "      <td>__label__6383</td>\n",
       "      <td>gold anodized fixed glass frame 144 stock length</td>\n",
       "      <td>crl fixed and universal framing may be used in...</td>\n",
       "    </tr>\n",
       "    <tr>\n",
       "      <th>9</th>\n",
       "      <td>__label__92</td>\n",
       "      <td>plastic antirattlers  20 per pack</td>\n",
       "      <td>crl plastic antirattlers  20 per pack</td>\n",
       "    </tr>\n",
       "  </tbody>\n",
       "</table>\n",
       "</div>"
      ],
      "text/plain": [
       "     category_id                                       product_name  \\\n",
       "0  __label__4991  satin brass right hand reverse rail mount reta...   \n",
       "1  __label__6245  brushed nickel pinnacle series wall mount shor...   \n",
       "2  __label__5061  brite anodized 16 end design series partition ...   \n",
       "3  __label__5048  satin chrome zseries large round clamp for 14 ...   \n",
       "4  __label__5030  post mount swinging gate with top and bottom p...   \n",
       "5    __label__90                       zinc plated 234 nitelock pin   \n",
       "6  __label__6400  polished chrome look 1116 wide rounded metal m...   \n",
       "7  __label__2334             dark bronze 157 straight cylinder ring   \n",
       "8  __label__6383   gold anodized fixed glass frame 144 stock length   \n",
       "9    __label__92                  plastic antirattlers  20 per pack   \n",
       "\n",
       "                                 product_description  \n",
       "0  crl blumcraft® manufactures a complete line of...  \n",
       "1  crl replacement back plates for pinnacle serie...  \n",
       "2  crl design series partition posts are very pop...  \n",
       "3  crl zseries clamps are available in your choic...  \n",
       "4  we have developed a series of swinging gates f...  \n",
       "5  the crl sliding door nitelock pin has a plated...  \n",
       "6  these crl chrome look metal mirror clips are d...  \n",
       "7  crl straight cylinder rings are used to obtain...  \n",
       "8  crl fixed and universal framing may be used in...  \n",
       "9              crl plastic antirattlers  20 per pack  "
      ]
     },
     "execution_count": 3,
     "metadata": {},
     "output_type": "execute_result"
    }
   ],
   "source": [
    "products_dataset.head(10)"
   ]
  },
  {
   "cell_type": "code",
   "execution_count": 8,
   "id": "22560f09",
   "metadata": {},
   "outputs": [
    {
     "ename": "TypeError",
     "evalue": "'DataFrame' object is not callable",
     "output_type": "error",
     "traceback": [
      "\u001b[1;31m---------------------------------------------------------------------------\u001b[0m",
      "\u001b[1;31mTypeError\u001b[0m                                 Traceback (most recent call last)",
      "\u001b[1;32mC:\\Users\\MAKSGO~1\\AppData\\Local\\Temp/ipykernel_8736/1545704997.py\u001b[0m in \u001b[0;36m<module>\u001b[1;34m\u001b[0m\n\u001b[1;32m----> 1\u001b[1;33m \u001b[0mproducts_dataset\u001b[0m\u001b[1;33m(\u001b[0m\u001b[1;33m[\u001b[0m\u001b[1;34m'product_description'\u001b[0m\u001b[1;33m]\u001b[0m\u001b[1;33m)\u001b[0m\u001b[1;33m\u001b[0m\u001b[1;33m\u001b[0m\u001b[0m\n\u001b[0m",
      "\u001b[1;31mTypeError\u001b[0m: 'DataFrame' object is not callable"
     ]
    }
   ],
   "source": [
    "products_dataset(['product_description'])"
   ]
  },
  {
   "cell_type": "code",
   "execution_count": null,
   "id": "c0ded16c",
   "metadata": {},
   "outputs": [],
   "source": []
  }
 ],
 "metadata": {
  "kernelspec": {
   "display_name": "Python 3 (ipykernel)",
   "language": "python",
   "name": "python3"
  },
  "language_info": {
   "codemirror_mode": {
    "name": "ipython",
    "version": 3
   },
   "file_extension": ".py",
   "mimetype": "text/x-python",
   "name": "python",
   "nbconvert_exporter": "python",
   "pygments_lexer": "ipython3",
   "version": "3.9.7"
  }
 },
 "nbformat": 4,
 "nbformat_minor": 5
}
